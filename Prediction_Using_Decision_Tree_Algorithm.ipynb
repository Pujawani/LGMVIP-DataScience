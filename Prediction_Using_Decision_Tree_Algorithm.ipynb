{
  "nbformat": 4,
  "nbformat_minor": 0,
  "metadata": {
    "colab": {
      "name": "Prediction Using Decision Tree Algorithm.ipynb",
      "provenance": [],
      "collapsed_sections": []
    },
    "kernelspec": {
      "name": "python3",
      "display_name": "Python 3"
    },
    "language_info": {
      "name": "python"
    }
  },
  "cells": [
    {
      "cell_type": "markdown",
      "metadata": {
        "id": "_lnH8bu-Ey7i"
      },
      "source": [
        "#**LetsGrowMore Data Science Virtual Internship Program-2021**\n",
        "# **Intermediate Level Task-2 : Prediction Using Decision Tree Algorithm**\n",
        "# **Author: Puja Wani**"
      ]
    },
    {
      "cell_type": "markdown",
      "metadata": {
        "id": "YKCYChPuFN8e"
      },
      "source": [
        "# **Importing all libraries**"
      ]
    },
    {
      "cell_type": "code",
      "metadata": {
        "id": "q43zzKHNFT6O"
      },
      "source": [
        "import pandas as pd\n",
        "import matplotlib.pyplot as plt\n",
        "from sklearn.datasets import load_iris\n",
        "from sklearn.model_selection import train_test_split\n",
        "from sklearn.tree import DecisionTreeClassifier\n",
        "from sklearn.metrics import accuracy_score\n",
        "from sklearn.tree import plot_tree\n",
        "from sklearn import tree"
      ],
      "execution_count": null,
      "outputs": []
    },
    {
      "cell_type": "markdown",
      "metadata": {
        "id": "_ZF-Un1pFbQs"
      },
      "source": [
        "\n",
        "# **Import dataset**"
      ]
    },
    {
      "cell_type": "code",
      "metadata": {
        "id": "ZXbg1hMLFdk-"
      },
      "source": [
        "data = load_iris()\n",
        "df = pd.DataFrame(data.data, columns = data.feature_names)\n",
        "df['target'] = data.target"
      ],
      "execution_count": null,
      "outputs": []
    },
    {
      "cell_type": "markdown",
      "metadata": {
        "id": "ASGhqr_KFo2c"
      },
      "source": [
        "# **Checking for null values**"
      ]
    },
    {
      "cell_type": "code",
      "metadata": {
        "id": "4pxgV_EwFqkW"
      },
      "source": [
        "df.isnull().sum()"
      ],
      "execution_count": null,
      "outputs": []
    },
    {
      "cell_type": "markdown",
      "metadata": {
        "id": "IKtekb2ZFv6y"
      },
      "source": [
        "# **Showing first 5 values**"
      ]
    },
    {
      "cell_type": "code",
      "metadata": {
        "id": "AyCoxYNhF0ND"
      },
      "source": [
        "df.head()"
      ],
      "execution_count": null,
      "outputs": []
    },
    {
      "cell_type": "markdown",
      "metadata": {
        "id": "tgRxDlilF5Rz"
      },
      "source": [
        "# **No. of rows and columns**"
      ]
    },
    {
      "cell_type": "code",
      "metadata": {
        "id": "OisucXoPGB_V"
      },
      "source": [
        "df.shape"
      ],
      "execution_count": null,
      "outputs": []
    },
    {
      "cell_type": "markdown",
      "metadata": {
        "id": "bBeXnCejGJVR"
      },
      "source": [
        "# **Showing only target data (Dependent Variable)**"
      ]
    },
    {
      "cell_type": "code",
      "metadata": {
        "id": "Ht6_2JM1GP1P"
      },
      "source": [
        "print(df['target'])"
      ],
      "execution_count": null,
      "outputs": []
    },
    {
      "cell_type": "markdown",
      "metadata": {
        "id": "4zFfsNN-GZoF"
      },
      "source": [
        "# **Splitting data**"
      ]
    },
    {
      "cell_type": "code",
      "metadata": {
        "id": "s5NAOQ0YGjmL"
      },
      "source": [
        "fc = [x for x in df.columns if x!=\"target\"]\n",
        "x= df[fc]\n",
        "y= df[\"target\"]\n",
        "X_train, X_test, Y_train, Y_test = train_test_split(x,y, random_state = 100, test_size = 0.30)"
      ],
      "execution_count": null,
      "outputs": []
    },
    {
      "cell_type": "markdown",
      "metadata": {
        "id": "5o89HGoLGnZH"
      },
      "source": [
        "# **Display of data**"
      ]
    },
    {
      "cell_type": "code",
      "metadata": {
        "id": "QzxlEMkRGpU5"
      },
      "source": [
        "print(X_train.shape)\n",
        "print(X_test.shape)\n",
        "print(Y_train.shape)\n",
        "print(Y_test.shape)"
      ],
      "execution_count": null,
      "outputs": []
    },
    {
      "cell_type": "markdown",
      "metadata": {
        "id": "XxvO2VFqGudo"
      },
      "source": [
        "# **Building Desicion tree model**"
      ]
    },
    {
      "cell_type": "code",
      "metadata": {
        "id": "mSOG8hBjGxWr"
      },
      "source": [
        "model1 = DecisionTreeClassifier()"
      ],
      "execution_count": null,
      "outputs": []
    },
    {
      "cell_type": "code",
      "metadata": {
        "id": "OGWRO78NG1mI"
      },
      "source": [
        "model1.fit(X_train,Y_train)"
      ],
      "execution_count": null,
      "outputs": []
    },
    {
      "cell_type": "code",
      "metadata": {
        "id": "DKJ9NMN_G5qB"
      },
      "source": [
        "Y_pred = model1.predict(X_test)"
      ],
      "execution_count": null,
      "outputs": []
    },
    {
      "cell_type": "code",
      "metadata": {
        "id": "W6tyOFh5G-hz"
      },
      "source": [
        "data2 = pd.DataFrame({\"Actual\":Y_test,\"Predicted\":Y_pred})\n",
        "data2.head()"
      ],
      "execution_count": null,
      "outputs": []
    },
    {
      "cell_type": "markdown",
      "metadata": {
        "id": "rZtjRAVSHG5T"
      },
      "source": [
        "# **Testing the accuracy of model prediction**"
      ]
    },
    {
      "cell_type": "code",
      "metadata": {
        "id": "HDitYAQ1HKf4"
      },
      "source": [
        "accuracy_score(Y_test,Y_pred)"
      ],
      "execution_count": null,
      "outputs": []
    },
    {
      "cell_type": "code",
      "metadata": {
        "id": "gUiLlRX1HP0z"
      },
      "source": [
        "# Plotting\n",
        "f_n = [\"Sepal length\", \"Sepal width\", \"Petal length\", \"Petal width\"]\n",
        "c_n = [\"Setosa\", \"Versicolor\", \"Virginica\"]\n",
        "plot_tree(model1,feature_names = f_n, class_names = c_n , filled = True)"
      ],
      "execution_count": null,
      "outputs": []
    },
    {
      "cell_type": "code",
      "metadata": {
        "id": "p7PcEb50HYeC"
      },
      "source": [
        "modelx= DecisionTreeClassifier().fit(x,y)"
      ],
      "execution_count": null,
      "outputs": []
    },
    {
      "cell_type": "code",
      "metadata": {
        "id": "Y0zkH4hvHdE-"
      },
      "source": [
        "plt.figure(figsize = (20,15))\n",
        "tree = tree.plot_tree(modelx, feature_names = f_n, class_names = c_n, filled = True)\n"
      ],
      "execution_count": null,
      "outputs": []
    },
    {
      "cell_type": "markdown",
      "metadata": {
        "id": "vYCS33vcHzsW"
      },
      "source": [
        "# **Prediction Using Decision Tree Algorithm is done successfully!!**"
      ]
    }
  ]
}